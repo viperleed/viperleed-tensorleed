{
 "cells": [
  {
   "cell_type": "code",
   "execution_count": 9,
   "id": "d60d00f2-c6b6-48df-82d3-9388044bb390",
   "metadata": {},
   "outputs": [],
   "source": [
    "from rfactor import r_factor_new as rf"
   ]
  },
  {
   "cell_type": "code",
   "execution_count": 10,
   "id": "8c3834c4-3da3-46b1-9a24-b301a10f9ac9",
   "metadata": {},
   "outputs": [],
   "source": [
    "def pd(f):\n",
    "    print(f.__doc__)"
   ]
  },
  {
   "cell_type": "code",
   "execution_count": 11,
   "id": "8644a55f-8afc-4e54-949e-3464c8849c2f",
   "metadata": {},
   "outputs": [
    {
     "name": "stdout",
     "output_type": "stream",
     "text": [
      "y = parabola(x,a,b,c)\n",
      "\n",
      "Wrapper for ``parabola``.\n",
      "\n",
      "Parameters\n",
      "----------\n",
      "x : input float\n",
      "a : input float\n",
      "b : input float\n",
      "c : input float\n",
      "\n",
      "Returns\n",
      "-------\n",
      "y : float\n",
      "\n"
     ]
    }
   ],
   "source": [
    "pd(rf.parabola)"
   ]
  },
  {
   "cell_type": "code",
   "execution_count": 12,
   "id": "f9b3b1c4-ade8-4edd-9b70-3700cf070ee2",
   "metadata": {},
   "outputs": [
    {
     "name": "stdout",
     "output_type": "stream",
     "text": [
      "best_v0r_step,best_v0r,best_r,r_pendry_beams,n_overlapping_points,ierr = r_pendry_beamset_v0r_opt_on_grid(range,start_guess,fast_search,e_step,y1,y2,id_start_y1,id_start_y2,n_y1,n_y2,[n_e,n_beams,tol_r,additional_steps_limit])\n",
      "\n",
      "Wrapper for ``r_pendry_beamset_v0r_opt_on_grid``.\n",
      "\n",
      "Parameters\n",
      "----------\n",
      "range : input rank-1 array('i') with bounds (2)\n",
      "start_guess : input rank-1 array('i') with bounds (3)\n",
      "fast_search : in/output rank-0 array(int,'i')\n",
      "e_step : input float\n",
      "y1 : input rank-2 array('d') with bounds (n_e,n_beams)\n",
      "y2 : input rank-2 array('d') with bounds (n_e,n_beams)\n",
      "id_start_y1 : input rank-1 array('i') with bounds (n_beams)\n",
      "id_start_y2 : input rank-1 array('i') with bounds (n_beams)\n",
      "n_y1 : input rank-1 array('i') with bounds (n_beams)\n",
      "n_y2 : input rank-1 array('i') with bounds (n_beams)\n",
      "\n",
      "Other Parameters\n",
      "----------------\n",
      "n_e : input int, optional\n",
      "    Default: shape(y1,0)\n",
      "n_beams : input int, optional\n",
      "    Default: shape(y1,1)\n",
      "tol_r : input float, optional\n",
      "    Default: 0.05\n",
      "additional_steps_limit : input int, optional\n",
      "    Default: 6\n",
      "\n",
      "Returns\n",
      "-------\n",
      "best_v0r_step : int\n",
      "best_v0r : float\n",
      "best_r : float\n",
      "r_pendry_beams : rank-1 array('d') with bounds (n_beams)\n",
      "n_overlapping_points : rank-1 array('i') with bounds (n_beams)\n",
      "ierr : int\n",
      "\n"
     ]
    }
   ],
   "source": [
    "pd(rf.r_pendry_beamset_v0r_opt_on_grid)"
   ]
  },
  {
   "cell_type": "code",
   "execution_count": null,
   "id": "34b17e49-b060-4d7a-a6ee-2de32492a3ec",
   "metadata": {},
   "outputs": [],
   "source": []
  }
 ],
 "metadata": {
  "kernelspec": {
   "display_name": "Python 3 (ipykernel)",
   "language": "python",
   "name": "python3"
  },
  "language_info": {
   "codemirror_mode": {
    "name": "ipython",
    "version": 3
   },
   "file_extension": ".py",
   "mimetype": "text/x-python",
   "name": "python",
   "nbconvert_exporter": "python",
   "pygments_lexer": "ipython3",
   "version": "3.8.12"
  }
 },
 "nbformat": 4,
 "nbformat_minor": 5
}
