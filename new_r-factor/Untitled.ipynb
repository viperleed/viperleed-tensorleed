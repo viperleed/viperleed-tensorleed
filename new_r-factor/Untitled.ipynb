{
 "cells": [
  {
   "cell_type": "code",
   "execution_count": 4,
   "id": "adjustable-contamination",
   "metadata": {},
   "outputs": [],
   "source": [
    "integer :: x\n",
    "real :: y"
   ]
  },
  {
   "cell_type": "code",
   "execution_count": 7,
   "id": "disabled-equivalent",
   "metadata": {},
   "outputs": [
    {
     "data": {
      "text/plain": [
       "0.000000"
      ]
     },
     "execution_count": 7,
     "metadata": {},
     "output_type": "execute_result"
    }
   ],
   "source": [
    "x = 0\n",
    "x+y"
   ]
  },
  {
   "cell_type": "code",
   "execution_count": 3,
   "id": "headed-patrol",
   "metadata": {},
   "outputs": [],
   "source": [
    "y = 2.0d0\n"
   ]
  }
 ],
 "metadata": {
  "kernelspec": {
   "display_name": "Fortran",
   "language": "fortran",
   "name": "fortran"
  },
  "language_info": {
   "file_extension": ".f90",
   "mimetype": "text/x-fortran",
   "name": "fortran",
   "version": "2018"
  }
 },
 "nbformat": 4,
 "nbformat_minor": 5
}
